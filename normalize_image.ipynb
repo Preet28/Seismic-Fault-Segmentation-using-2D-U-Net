{
 "cells": [
  {
   "cell_type": "markdown",
   "metadata": {},
   "source": [
    "normalizing the images using global visulaization."
   ]
  },
  {
   "cell_type": "code",
   "execution_count": 1,
   "metadata": {},
   "outputs": [
    {
     "name": "stdout",
     "output_type": "stream",
     "text": [
      "🌍 Global normalization: min=0, max=255\n",
      "✅ Global Normalization Completed! Check the normalized folders.\n"
     ]
    }
   ],
   "source": [
    "import cv2\n",
    "import numpy as np\n",
    "import os\n",
    "\n",
    "def normalize_image(image, global_min, global_max):\n",
    "    \"\"\"Normalize image using global min-max scaling to [0,1].\"\"\"\n",
    "    return (image - global_min) / (global_max - global_min + 1e-8)\n",
    "\n",
    "# Define input and output folders\n",
    "folders = {\n",
    "    \"processed_seis\": \"normalized_seis\",\n",
    "    \"processed_fault\": \"normalized_fault\",\n",
    "    \"augmented_seis\": \"normalized_aug_seis\",\n",
    "    \"augmented_fault\": \"normalized_aug_fault\",\n",
    "    \"sliced_validation/seis\": \"normalized_validation/seis\",\n",
    "    \"sliced_validation/fault\": \"normalized_validation/fault\"\n",
    "}\n",
    "\n",
    "# Create output folders if they don’t exist\n",
    "for out_folder in folders.values():\n",
    "    os.makedirs(out_folder, exist_ok=True)\n",
    "\n",
    "# Compute global min/max from training images\n",
    "train_min, train_max = np.inf, -np.inf\n",
    "train_folders = [\"processed_seis\", \"processed_fault\", \"augmented_seis\", \"augmented_fault\"]\n",
    "\n",
    "for folder in train_folders:\n",
    "    for img_name in os.listdir(folder):\n",
    "        if img_name.endswith(\".png\"):\n",
    "            img = cv2.imread(os.path.join(folder, img_name), cv2.IMREAD_GRAYSCALE)\n",
    "            if img is not None:\n",
    "                train_min = min(train_min, img.min())\n",
    "                train_max = max(train_max, img.max())\n",
    "\n",
    "print(f\"🌍 Global normalization: min={train_min}, max={train_max}\")\n",
    "\n",
    "# Normalize and save images\n",
    "for in_folder, out_folder in folders.items():\n",
    "    for img_name in os.listdir(in_folder):\n",
    "        if img_name.endswith(\".png\"):\n",
    "            img_path = os.path.join(in_folder, img_name)\n",
    "            img = cv2.imread(img_path, cv2.IMREAD_GRAYSCALE)\n",
    "            \n",
    "            if img is None:\n",
    "                print(f\"❌ Skipping {img_name} (loading error)\")\n",
    "                continue\n",
    "            \n",
    "            # Normalize\n",
    "            norm_img = normalize_image(img, train_min, train_max)\n",
    "            \n",
    "            # Convert back to 8-bit (0-255) for saving\n",
    "            norm_img = (norm_img * 255).astype(np.uint8)\n",
    "            \n",
    "            # Save\n",
    "            cv2.imwrite(os.path.join(out_folder, img_name), norm_img)\n",
    "\n",
    "print(\"✅ Global Normalization Completed! Check the normalized folders.\")\n"
   ]
  }
 ],
 "metadata": {
  "kernelspec": {
   "display_name": "Python 3",
   "language": "python",
   "name": "python3"
  },
  "language_info": {
   "codemirror_mode": {
    "name": "ipython",
    "version": 3
   },
   "file_extension": ".py",
   "mimetype": "text/x-python",
   "name": "python",
   "nbconvert_exporter": "python",
   "pygments_lexer": "ipython3",
   "version": "3.12.4"
  }
 },
 "nbformat": 4,
 "nbformat_minor": 2
}
